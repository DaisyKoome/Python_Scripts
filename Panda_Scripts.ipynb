{
 "cells": [
  {
   "cell_type": "code",
   "execution_count": 10,
   "metadata": {
    "scrolled": true
   },
   "outputs": [
    {
     "name": "stdout",
     "output_type": "stream",
     "text": [
      "[[  56.7473     34.662762   43.84864 ]\n",
      " [  89.738      45.72864    56.8128  ]\n",
      " [   1.8978    456.789      20.747   ]\n",
      " [ 676.4752     78.736      60.737   ]\n",
      " [  10.2435     76.736      56.87628 ]]\n",
      "<class 'numpy.ndarray'>\n",
      "(5, 3)\n"
     ]
    },
    {
     "data": {
      "text/plain": [
       "array([ 56.7473  ,  34.662762,  43.84864 ])"
      ]
     },
     "execution_count": 10,
     "metadata": {},
     "output_type": "execute_result"
    }
   ],
   "source": [
    "#Panda code\n",
    "#Converting a csv file into a matrix\n",
    "import pandas as pd\n",
    "import numpy as np\n",
    "x=[]\n",
    "for line in open(r'Data.csv'):\n",
    "    row=line.split(\",\")\n",
    "    sample=list(map(float,row))\n",
    "    x.append(sample)\n",
    "x=np.array(x)\n",
    "print(x)\n",
    "#Finding out the data type\n",
    "print(type(x))#Why is my type a list whereas in the tutorial its a dataframe?\n",
    "\n",
    "#Finding out the structure of the list by making it into a numpy array\n",
    "import numpy as np\n",
    "x=np.array(x)\n",
    "print(x.shape)\n",
    "\n",
    "\n",
    "#Finding out info about the list\n",
    "import pandas \n",
    "print(x.info())\n",
    "\n",
    "#Why is this not working?\n",
    "\n",
    "#Finding out what is in the head of the csv file\n",
    "print(x.head()) #Why is this not displaying Maths,Eng, Swa as the head?\n",
    "\n",
    "#Why is this reading the first row instead of the first column?\n",
    "x[0]\n",
    "\n",
    "\n",
    "\n",
    "\n",
    "\n",
    "\n",
    "\n"
   ]
  },
  {
   "cell_type": "code",
   "execution_count": 5,
   "metadata": {
    "collapsed": true
   },
   "outputs": [],
   "source": [
    "#The following are various ways that I tried to use in loading data from a CSV file made in excel"
   ]
  },
  {
   "cell_type": "code",
   "execution_count": 9,
   "metadata": {},
   "outputs": [
    {
     "ename": "NameError",
     "evalue": "name 'np' is not defined",
     "output_type": "error",
     "traceback": [
      "\u001b[1;31m---------------------------------------------------------------------------\u001b[0m",
      "\u001b[1;31mNameError\u001b[0m                                 Traceback (most recent call last)",
      "\u001b[1;32m<ipython-input-9-2ea84c76597b>\u001b[0m in \u001b[0;36m<module>\u001b[1;34m()\u001b[0m\n\u001b[1;32m----> 1\u001b[1;33m \u001b[0mdata\u001b[0m \u001b[1;33m=\u001b[0m \u001b[0mnp\u001b[0m\u001b[1;33m.\u001b[0m\u001b[0mgenfromtxt\u001b[0m\u001b[1;33m(\u001b[0m\u001b[1;34mr\"C:\\Users\\USER\\Documents\\PythonScripts\\Data.csv\"\u001b[0m\u001b[1;33m,\u001b[0m \u001b[0mdtype\u001b[0m\u001b[1;33m=\u001b[0m\u001b[0mfloat\u001b[0m\u001b[1;33m,\u001b[0m \u001b[0mdelimiter\u001b[0m\u001b[1;33m=\u001b[0m\u001b[1;34m','\u001b[0m\u001b[1;33m,\u001b[0m \u001b[0mnames\u001b[0m\u001b[1;33m=\u001b[0m\u001b[1;32mTrue\u001b[0m\u001b[1;33m)\u001b[0m\u001b[1;33m\u001b[0m\u001b[0m\n\u001b[0m",
      "\u001b[1;31mNameError\u001b[0m: name 'np' is not defined"
     ]
    }
   ],
   "source": [
    "data = np.genfromtxt(r\"C:\\Users\\USER\\Documents\\PythonScripts\\Data.csv\", dtype=float, delimiter=',', names=True)"
   ]
  },
  {
   "cell_type": "code",
   "execution_count": 46,
   "metadata": {},
   "outputs": [
    {
     "ename": "SyntaxError",
     "evalue": "invalid syntax (<ipython-input-46-b8221492682e>, line 4)",
     "output_type": "error",
     "traceback": [
      "\u001b[1;36m  File \u001b[1;32m\"<ipython-input-46-b8221492682e>\"\u001b[1;36m, line \u001b[1;32m4\u001b[0m\n\u001b[1;33m    def readcsv(r\"C:\\Users\\USER\\Documents\\PythonScripts\\Data.csv\"):\u001b[0m\n\u001b[1;37m                                                                ^\u001b[0m\n\u001b[1;31mSyntaxError\u001b[0m\u001b[1;31m:\u001b[0m invalid syntax\n"
     ]
    }
   ],
   "source": [
    "import pandas\n",
    "def readcsv(r\"C:\\Users\\USER\\Documents\\PythonScripts\\Data.csv\"):\n",
    "      with open Data.csv as csvfile\n",
    "      file=csv.reader(csvfile, delimiter=\",\")"
   ]
  },
  {
   "cell_type": "code",
   "execution_count": 2,
   "metadata": {},
   "outputs": [
    {
     "ename": "AttributeError",
     "evalue": "'numpy.ndarray' object has no attribute 'info'",
     "output_type": "error",
     "traceback": [
      "\u001b[1;31m---------------------------------------------------------------------------\u001b[0m",
      "\u001b[1;31mAttributeError\u001b[0m                            Traceback (most recent call last)",
      "\u001b[1;32m<ipython-input-2-effaaf499529>\u001b[0m in \u001b[0;36m<module>\u001b[1;34m()\u001b[0m\n\u001b[0;32m     13\u001b[0m \u001b[1;31m#Finding out info about the list\u001b[0m\u001b[1;33m\u001b[0m\u001b[1;33m\u001b[0m\u001b[0m\n\u001b[0;32m     14\u001b[0m \u001b[1;32mimport\u001b[0m \u001b[0mpandas\u001b[0m\u001b[1;33m\u001b[0m\u001b[0m\n\u001b[1;32m---> 15\u001b[1;33m \u001b[0mx\u001b[0m\u001b[1;33m.\u001b[0m\u001b[0minfo\u001b[0m\u001b[1;33m(\u001b[0m\u001b[1;33m)\u001b[0m\u001b[1;31m#Why is this not working?\u001b[0m\u001b[1;33m\u001b[0m\u001b[0m\n\u001b[0m\u001b[0;32m     16\u001b[0m \u001b[1;33m\u001b[0m\u001b[0m\n\u001b[0;32m     17\u001b[0m \u001b[1;31m#Finding out what is in the head of the csv file\u001b[0m\u001b[1;33m\u001b[0m\u001b[1;33m\u001b[0m\u001b[0m\n",
      "\u001b[1;31mAttributeError\u001b[0m: 'numpy.ndarray' object has no attribute 'info'"
     ]
    }
   ],
   "source": [
    "import pandas as pd\n",
    "X=pd.read_csv(r\"C:\\Users\\USER\\Documents\\PythonScripts\\Data.csv\",header=None)\n",
    "X\n",
    "\n",
    "#Finding out the data type\n",
    "type(x)#Why is my type a list whereas in the tutorial its a dataframe?\n",
    "\n",
    "#Finding out the structure of the list by making it into a numpy array\n",
    "import numpy as np\n",
    "x=np.array(x)\n",
    "x.shape\n",
    "\n",
    "#Finding out info about the list\n",
    "import pandas \n",
    "x.info()#Why is this not working?\n",
    "\n",
    "#Finding out what is in the head of the csv file\n",
    "x.head() #Why is this not displaying Maths,Eng, Swa as the head?\n",
    "\n",
    "#Why is this reading the first row instead of the first column?\n",
    "x[0]"
   ]
  },
  {
   "cell_type": "code",
   "execution_count": 7,
   "metadata": {},
   "outputs": [
    {
     "name": "stdout",
     "output_type": "stream",
     "text": [
      "   5.7473  3.662762  3.84864\n",
      "0  8.7380   5.72864  6.81280\n",
      "1  1.8978   6.78900  2.74700\n",
      "2  6.4752   8.73600  0.73700\n",
      "3  1.2435   6.73600  6.87628\n",
      "4  8.8276   5.87380  8.82778\n",
      "5  7.7276   7.27627  7.76260\n",
      "6  0.7267   8.87280  9.27820\n",
      "7  2.7620   7.87280  6.87280\n",
      "8  3.8780   7.27620  6.87280\n"
     ]
    },
    {
     "data": {
      "text/plain": [
       "list"
      ]
     },
     "execution_count": 7,
     "metadata": {},
     "output_type": "execute_result"
    }
   ],
   "source": [
    "import pandas as pd\n",
    "x=[]\n",
    "DSI_data=open(r'C:\\Users\\USER\\Documents\\PythonScripts\\data1.csv')\n",
    "DSI_reader=pd.read_csv(DSI_data)\n",
    "print(DSI_reader)\n",
    "DSI_reader=x\n",
    "\n",
    "#Finding out the data type\n",
    "type(x)#Why is my type a list or numpy.ndarray whereas in the tutorial its a dataframe?\n",
    "\n",
    "#Finding out the structure of the list by making it into a numpy array\n",
    "import numpy as np\n",
    "x=np.array(x)\n",
    "x.shape\n",
    "\n",
    "#Finding out info about the list\n",
    "import pandas \n",
    "x.info()#Why is this not working?\n",
    "\n",
    "#Finding out what is in the head of the csv file\n",
    "x.head() #Why is this not displaying Maths,Eng, Swa as the head?\n",
    "\n",
    "M=x.as_matrix() #Not working coz its already a matrix/numpy array\n",
    "\n",
    "#Why is this reading the first row instead of the first column? Because the data type is a numpy array.\n",
    "#Numpy(array):x[0]-returns the 0th row\n",
    "#Pandas(dataframe):x[0]-returns column that has name 0\n",
    "#The datatype should be a dataframe for all the code that has errors so far to work\n",
    "#Why is it not a dataframe?\n",
    "x[0]\n",
    "\n",
    "#Determining the data type of x[0]\n",
    "type([0]) #Should be a series not a list or numpy array\n",
    "\n",
    "#Pandas dataframes are for 2D objects.\n",
    "#Pandas series are for 1D objects.\n",
    "\n",
    "#How to get a pandas row\n",
    "x.iloc[0]#I think it doesnt work coz its a numpy array or list not a pandas data frame\n",
    "\n",
    "#Finding out the data type of a pandas row\n",
    "type(x.iloc[0])#Doesnt work coz its a list\n",
    "\n",
    "#Getting more than 1 column in pandas\n",
    "x[[0,2]]#List indices must be integers or slices,not list\n",
    "\n",
    "#Selecting specific roe based on some criteria eg filtering out all the row which have data in the 0th column being less than 5 \n",
    "x[x[0]<5] #< is not supported between instances of 'list' and 'int'\n",
    "\n",
    "#This code outputs the value of all the rows in the 0th column in form of boolean values \n",
    "x[0]<5 #Doesn't work here coz its a list\n",
    "\n",
    "\n",
    "\n"
   ]
  },
  {
   "cell_type": "code",
   "execution_count": null,
   "metadata": {
    "collapsed": true
   },
   "outputs": [],
   "source": []
  },
  {
   "cell_type": "code",
   "execution_count": null,
   "metadata": {
    "collapsed": true
   },
   "outputs": [],
   "source": []
  }
 ],
 "metadata": {
  "kernelspec": {
   "display_name": "Python 3",
   "language": "python",
   "name": "python3"
  },
  "language_info": {
   "codemirror_mode": {
    "name": "ipython",
    "version": 3
   },
   "file_extension": ".py",
   "mimetype": "text/x-python",
   "name": "python",
   "nbconvert_exporter": "python",
   "pygments_lexer": "ipython3",
   "version": "3.6.1"
  }
 },
 "nbformat": 4,
 "nbformat_minor": 2
}
